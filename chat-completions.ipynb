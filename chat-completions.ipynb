{
 "cells": [
  {
   "cell_type": "code",
   "execution_count": 2,
   "id": "ef63eb05",
   "metadata": {},
   "outputs": [],
   "source": [
    "import openai\n",
    "from dotenv import load_dotenv\n",
    "import os\n",
    "from openai import OpenAI"
   ]
  },
  {
   "cell_type": "code",
   "execution_count": 3,
   "id": "34b20d49",
   "metadata": {},
   "outputs": [],
   "source": [
    "load_dotenv()\n",
    "client = OpenAI(api_key=os.getenv(\"OPENAI_API_KEY\"))"
   ]
  },
  {
   "cell_type": "code",
   "execution_count": 9,
   "id": "7b5df0d0",
   "metadata": {},
   "outputs": [
    {
     "name": "stdout",
     "output_type": "stream",
     "text": [
      "Quantum entanglement is a phenomenon that occurs when two or more particles become linked or \"entangled,\" and the state of one instantly affects the state of the other, no matter how far apart they are.\n",
      "\n",
      "To simplify, think of it like this: Imagine you have two dice. You shake them in a cup and then separate them into two different boxes. One box you send to your friend overseas, the other you keep. Now, without opening the boxes, the dice are in a state of uncertainty. You don't know what number you'll get until you open the box.\n",
      "\n",
      "In quantum entanglement, as soon as your friend opens their box and sees their die showing a 6, for example, your die instantly becomes a \n"
     ]
    }
   ],
   "source": [
    "# Make a chat completion request\n",
    "\n",
    "response = client.chat.completions.create(\n",
    "  model=\"gpt-4\",  # Replace with your desired model\n",
    "  messages=[\n",
    "    {\"role\": \"system\", \"content\": \"You are a helpful assistant.\"},\n",
    "    {\"role\": \"user\", \"content\": \"Explain quantum entanglement in simple terms.\"}\n",
    "  ],\n",
    "  max_tokens=150,\n",
    "  temperature=0.7\n",
    ")\n",
    "print(response.choices[0].message.content)\n",
    "\n",
    "# response = openai.ChatCompletion.create(\n",
    "#   model=\"o3-mini\",\n",
    "#   messages=[\n",
    "#     {\"role\": \"developer\", \"content\": \"You are a helpful assistant.\"},\n",
    "#     {\"role\": \"user\", \"content\": \"Explain quantum entanglement in simple terms.\"}\n",
    "#   ],\n",
    "#   reasoning_effort=\"medium\"  # Options: \"low\", \"medium\", \"high\"\n",
    "# )\n",
    "# print(response.choices[0].message['content'])"
   ]
  },
  {
   "cell_type": "code",
   "execution_count": 15,
   "id": "c2cb5302",
   "metadata": {},
   "outputs": [
    {
     "name": "stdout",
     "output_type": "stream",
     "text": [
      "A **black hole** is one of the most fascinating and mysterious objects in the universe, characterized by an incredibly strong gravitational pull from which nothing—not even light—can escape once it gets too close. Here's a comprehensive overview of what black holes are, how they form, and their significance in astrophysics:\n",
      "\n",
      "### **1. What is a Black Hole?**\n",
      "\n",
      "At its core, a black hole is a region in space where the gravitational force is so intense that it warps the fabric of spacetime to an extreme degree. This warping creates a boundary known as the **event horizon**, which marks the point of no return. Once any matter or radiation crosses this boundary, it cannot escape the black hole's grasp.\n",
      "\n",
      "### **2. Formation of Black Holes**\n",
      "\n",
      "Most black holes form from the remnants of massive stars that have exhausted their nuclear fuel. Here's how the process typically unfolds:\n",
      "\n",
      "- **Stellar Death:** When a massive star (several times larger than our Sun) runs out of hydrogen to burn in its core, it undergoes a series of nuclear reactions, creating heavier elements until iron is formed.\n",
      "  \n",
      "- **Supernova Explosion:** The buildup of iron doesn't produce energy through fusion, leading to a collapse of the star's core under its own gravity. This collapse results in a catastrophic explosion known as a **supernova**.\n",
      "\n",
      "- **Core Collapse:** If the remaining core's mass exceeds a certain limit (the **Tolman–Oppenheimer–Volkoff limit**, roughly 2–3 times the mass of the Sun), it can no longer support itself against gravitational collapse, leading to the formation of a black hole.\n",
      "\n",
      "### **3. Anatomy of a Black Hole**\n",
      "\n",
      "- **Singularity:** At the very center of a black hole lies the singularity—a point where density becomes infinite, and the laws of physics as we know them break down. It's a theoretical construct, as our current understanding of physics can't fully describe conditions at the singularity.\n",
      "\n",
      "- **Event Horizon:** This is the \"surface\" of the black hole. Once something crosses the event horizon, it cannot escape. The size of the event horizon is proportional to the black hole's mass and is often referred to as the black hole's \"Schwarzschild radius.\"\n",
      "\n",
      "- **Accretion Disk:** Surrounding some black holes is an accretion disk—a swirling disk of gas, dust, and other material spiraling into the black hole. As matter in the accretion disk heats up due to friction and gravitational forces, it emits powerful X-rays and other forms of radiation, making black holes detectable.\n",
      "\n",
      "### **4. Types of Black Holes**\n",
      "\n",
      "Black holes come in various sizes and types:\n",
      "\n",
      "- **Stellar Black Holes:** Formed from the collapse of massive stars, typically a few to tens of times the mass of the Sun.\n",
      "\n",
      "- **Supermassive Black Holes:** Found at the centers of most galaxies, including our Milky Way, these black holes can have masses millions to billions times that of the Sun.\n",
      "\n",
      "- **Intermediate Black Holes:** These are thought to exist in sizes between stellar and supermassive black holes, although they are harder to detect and less well understood.\n",
      "\n",
      "- **Primordial Black Holes:** Hypothetical black holes that might have formed in the early universe due to density fluctuations shortly after the Big Bang.\n",
      "\n",
      "### **5. Detecting Black Holes**\n",
      "\n",
      "Since black holes themselves emit no light, astronomers detect them through their interactions with surrounding matter:\n",
      "\n",
      "- **Gravitational Effects:** Observing the motion of stars and gas clouds near a black hole can reveal its presence due to the intense gravitational pull influencing their paths.\n",
      "\n",
      "- **X-ray Emissions:** Matter falling into a black hole's accretion disk heats up and emits X-rays before crossing the event horizon.\n",
      "\n",
      "- **Gravitational Waves:** When black holes collide or merge, they produce ripples in spacetime called gravitational waves, which can be detected by observatories like LIGO and Virgo.\n",
      "\n",
      "- **Gravitational Lensing:** Black holes can bend and distort the path of light from objects behind them, acting like a lens and magnifying distant stars or galaxies.\n",
      "\n",
      "### **6. Importance in Physics and Astronomy**\n",
      "\n",
      "Black holes are essential to our understanding of fundamental physics and cosmology:\n",
      "\n",
      "- **General Relativity:** Black holes are key predictions of Einstein's theory of general relativity, illustrating how mass and energy warp spacetime.\n",
      "\n",
      "- **Quantum Mechanics:** Studying black holes helps bridge the gap between general relativity and quantum mechanics, especially in understanding phenomena like Hawking radiation—a theoretical prediction that black holes can emit radiation due to quantum effects near the event horizon.\n",
      "\n",
      "- **Galactic Evolution:** Supermassive black holes influence the formation and evolution of galaxies, affecting star formation rates and the distribution of matter in the universe.\n",
      "\n",
      "### **7. Mysteries and Ongoing Research**\n",
      "\n",
      "Despite significant advancements, many questions about black holes remain:\n",
      "\n",
      "- **Information Paradox:** According to quantum theory, information cannot be destroyed, but it's unclear how this principle applies to information that falls into a black hole.\n",
      "\n",
      "- **Singularity and Quantum Gravity:** A complete theory of quantum gravity is needed to fully describe the conditions at a black hole's singularity.\n",
      "\n",
      "- **Detection of Intermediate and Primordial Black Holes:** Finding definitive evidence for these types of black holes continues to be a challenge.\n",
      "\n",
      "### **Conclusion**\n",
      "\n",
      "Black holes are extraordinary cosmic entities that challenge our understanding of the universe. They serve as natural laboratories for testing the laws of physics under extreme conditions and continue to be a central focus of astronomical research. As technology advances, our ability to observe and comprehend black holes will undoubtedly deepen, unveiling more of their intriguing secrets."
     ]
    }
   ],
   "source": [
    "# Stream responses\n",
    "\n",
    "response = client.chat.completions.create(\n",
    "  model=\"o1-mini\",\n",
    "  messages=[\n",
    "    {\"role\": \"user\", \"content\": \"Explain the concept of black holes.\"}\n",
    "  ],\n",
    "  stream=True\n",
    ")\n",
    "for chunk in response:\n",
    "  print(chunk.choices[0].delta.content or \"\", end=\"\")"
   ]
  },
  {
   "cell_type": "code",
   "execution_count": 17,
   "id": "6afd38c9",
   "metadata": {},
   "outputs": [
    {
     "name": "stdout",
     "output_type": "stream",
     "text": [
      "The derivative of the function f(x) = x^2 * sin(x) can be found using the product rule for differentiation, which states that the derivative of two functions multiplied together is the first function times the derivative of the second function plus the second function times the derivative of the first function.\n",
      "\n",
      "Let's denote:\n",
      "u(x) = x^2\n",
      "v(x) = sin(x)\n",
      "\n",
      "Then, the derivative of f(x) is:\n",
      "f'(x) = u'(x)v(x) + u(x)v'(x)\n",
      "\n",
      "We know that:\n",
      "u'(x) = 2x (the derivative of x^2)\n",
      "v'(x) = cos(x) (the derivative of sin(x))\n",
      "\n",
      "So, substituting these into the formula gives:\n",
      "f'(x) = 2x*sin(x) + x^2*cos(x)\n"
     ]
    }
   ],
   "source": [
    "# Advanced Reasoning with Custom Effort\n",
    "\n",
    "# Solve a complex math problem\n",
    "response = client.chat.completions.create(\n",
    "  model=\"gpt-4\",\n",
    "  messages=[\n",
    "    {\"role\": \"user\", \"content\": \"Solve this calculus problem: Find the derivative of f(x) = x^2 * sin(x)\"}\n",
    "  ],\n",
    "  max_tokens=200,\n",
    "  temperature=0.7\n",
    ")\n",
    "print(response.choices[0].message.content)"
   ]
  },
  {
   "cell_type": "code",
   "execution_count": 13,
   "id": "1356fbfc",
   "metadata": {},
   "outputs": [
    {
     "name": "stdout",
     "output_type": "stream",
     "text": [
      "[ChatCompletionMessageToolCall(id='call_VTih9K2a5MfgO7aOeTNNGP5z', function=Function(arguments='{\\n  \"location\": \"San Francisco, CA\"\\n}', name='get_weather'), type='function')]\n"
     ]
    }
   ],
   "source": [
    "# Function Calling\n",
    "\n",
    "# Define a tool (e.g., a weather API)\n",
    "tools = [\n",
    "  {\n",
    "    \"type\": \"function\",\n",
    "    \"function\": {\n",
    "      \"name\": \"get_weather\",\n",
    "      \"description\": \"Get the current weather in a location\",\n",
    "      \"parameters\": {\n",
    "        \"type\": \"object\",\n",
    "        \"properties\": {\n",
    "          \"location\": {\n",
    "            \"type\": \"string\",\n",
    "            \"description\": \"The city and state, e.g., San Francisco, CA\"\n",
    "          }\n",
    "        },\n",
    "        \"required\": [\"location\"]\n",
    "      }\n",
    "    }\n",
    "  }\n",
    "]\n",
    "\n",
    "# Make a function call request\n",
    "response = client.chat.completions.create(\n",
    "  model=\"gpt-4\",\n",
    "  messages=[\n",
    "    {\"role\": \"user\", \"content\": \"What's the weather like in San Francisco?\"}\n",
    "  ],\n",
    "  tools=tools,\n",
    "  tool_choice=\"auto\"\n",
    ")\n",
    "print(response.choices[0].message.tool_calls)"
   ]
  },
  {
   "cell_type": "code",
   "execution_count": 18,
   "id": "d9e35237",
   "metadata": {},
   "outputs": [
    {
     "name": "stdout",
     "output_type": "stream",
     "text": [
      "Quantum entanglement is a phenomenon in quantum physics where two or more particles become inextricably linked, no matter how far apart they are. What happens to one particle can instantly affect the other, even if it's on the other side of the universe. It's like having two dice that are magically connected: no matter how far apart they are, if you roll one and it shows a six, the other one will also show a six instantly. This doesn't fit with our everyday experiences of the world, which is why quantum entanglement seems so strange. It's one of the key aspects of quantum mechanics that sets it apart from classical physics.\n"
     ]
    }
   ],
   "source": [
    "# Developer Messages\n",
    "\n",
    "response = client.chat.completions.create(\n",
    "  model=\"gpt-4\",\n",
    "  messages=[\n",
    "    {\"role\": \"developer\", \"content\": \"You are a helpful assistant.\"},\n",
    "    {\"role\": \"user\", \"content\": \"Explain quantum entanglement in simple terms.\"}\n",
    "  ],\n",
    "  max_tokens=150,\n",
    "  temperature=0.7\n",
    ")\n",
    "print(response.choices[0].message.content)"
   ]
  },
  {
   "cell_type": "code",
   "execution_count": null,
   "id": "0cffe3aa",
   "metadata": {},
   "outputs": [],
   "source": []
  }
 ],
 "metadata": {
  "kernelspec": {
   "display_name": "Python 3 (ipykernel)",
   "language": "python",
   "name": "python3"
  },
  "language_info": {
   "codemirror_mode": {
    "name": "ipython",
    "version": 3
   },
   "file_extension": ".py",
   "mimetype": "text/x-python",
   "name": "python",
   "nbconvert_exporter": "python",
   "pygments_lexer": "ipython3",
   "version": "3.12.0"
  }
 },
 "nbformat": 4,
 "nbformat_minor": 5
}
