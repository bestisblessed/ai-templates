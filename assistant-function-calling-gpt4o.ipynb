{
 "cells": [
  {
   "cell_type": "code",
   "execution_count": 1,
   "id": "a6fd4994",
   "metadata": {},
   "outputs": [],
   "source": [
    "import openai\n",
    "from openai import OpenAI\n",
    "from dotenv import load_dotenv\n",
    "import os\n",
    "import pandas as pd\n",
    "import requests\n",
    "import json"
   ]
  },
  {
   "cell_type": "code",
   "execution_count": 2,
   "id": "6871addc",
   "metadata": {},
   "outputs": [],
   "source": [
    "load_dotenv()\n",
    "client = OpenAI(api_key=os.getenv(\"OPENAI_API_KEY\"))"
   ]
  },
  {
   "cell_type": "code",
   "execution_count": 3,
   "id": "e2a1d1eb",
   "metadata": {},
   "outputs": [
    {
     "name": "stdout",
     "output_type": "stream",
     "text": [
      "90.37°F\n"
     ]
    }
   ],
   "source": [
    "def get_current_weather(location, unit='imperial'):\n",
    "    api_key = 'a07249621b3a9bf9b5015b69c219ea13'  # Replace with your OpenWeatherMap API key\n",
    "    base_url = 'http://api.openweathermap.org/data/2.5/weather?'\n",
    "\n",
    "    # Prepare the URL\n",
    "    complete_url = f\"{base_url}appid={api_key}&q={location}&units={unit}\"\n",
    "\n",
    "    # Make a request to the API\n",
    "    response = requests.get(complete_url)\n",
    "    data = response.json()\n",
    "\n",
    "    if data['cod'] != 404:\n",
    "        main = data['main']\n",
    "        temperature = main['temp']\n",
    "        return f\"{temperature}°C\" if unit == 'metric' else f\"{temperature}°F\"\n",
    "    else:\n",
    "        return \"Weather data not found.\"\n",
    "\n",
    "# Example usage\n",
    "print(get_current_weather('Miami', 'imperial'))"
   ]
  },
  {
   "cell_type": "code",
   "execution_count": 4,
   "id": "ca477552",
   "metadata": {},
   "outputs": [],
   "source": [
    "# Create assistant and run it\n",
    "\n",
    "user_message = \"What is the weather in Miami?\"\n",
    "# user_message = \"What is the weather in London?\"\n",
    "\n",
    "assistant = client.beta.assistants.create(\n",
    "  instructions=\"You are a weather bot. Use the provided functions to answer questions.\",\n",
    "  model=\"gpt-4o\",\n",
    "  tools=[{\n",
    "      \"type\": \"function\",\n",
    "      \"function\": {\n",
    "          \"name\": \"get_current_weather\",\n",
    "          \"description\": \"Get the weather in a location\",\n",
    "          \"parameters\": {\n",
    "              \"type\": \"object\",\n",
    "              \"properties\": {\n",
    "                  \"location\": {\"type\": \"string\", \"description\": \"City name\"},\n",
    "                  \"unit\": {\"type\": \"string\", \"enum\": [\"metric\", \"imperial\"]}\n",
    "              },\n",
    "              \"required\": [\"location\"]\n",
    "          }\n",
    "      }\n",
    "    }\n",
    "  ]\n",
    ")\n",
    "\n",
    "\n",
    "thread = client.beta.threads.create(\n",
    "  messages=[\n",
    "    {\n",
    "      \"role\": \"user\",\n",
    "      \"content\": user_message\n",
    "    }\n",
    "  ]\n",
    ")\n",
    "\n",
    "\n",
    "run = client.beta.threads.runs.create(\n",
    "  thread_id=thread.id,\n",
    "  assistant_id=assistant.id\n",
    ")\n"
   ]
  },
  {
   "cell_type": "code",
   "execution_count": 6,
   "id": "ec5fdd94",
   "metadata": {},
   "outputs": [],
   "source": [
    "# Required action ID\n",
    "# Wait a second of run isn't complete yet\n",
    "run = client.beta.threads.runs.retrieve(\n",
    "  thread_id=thread.id,\n",
    "  run_id=run.id\n",
    ")\n",
    "required_action_id_1 = run.required_action.submit_tool_outputs.tool_calls[0].id"
   ]
  },
  {
   "cell_type": "code",
   "execution_count": 7,
   "id": "2f622cbf",
   "metadata": {},
   "outputs": [
    {
     "data": {
      "text/plain": [
       "Run(id='run_2cxISQBZGy7QACotXlkOuiVF', assistant_id='asst_fzvtJRguhZXzJ5k4aUeAXEOm', cancelled_at=None, completed_at=None, created_at=1719694257, expires_at=1719694857, failed_at=None, incomplete_details=None, instructions='You are a weather bot. Use the provided functions to answer questions.', last_error=None, max_completion_tokens=None, max_prompt_tokens=None, metadata={}, model='gpt-4o', object='thread.run', parallel_tool_calls=True, required_action=None, response_format='auto', started_at=1719694257, status='queued', thread_id='thread_f2QfewjvClK6e8AkI64Nw3Dy', tool_choice='auto', tools=[FunctionTool(function=FunctionDefinition(name='get_current_weather', description='Get the weather in a location', parameters={'type': 'object', 'properties': {'location': {'type': 'string', 'description': 'City name'}, 'unit': {'type': 'string', 'enum': ['metric', 'imperial']}}, 'required': ['location']}), type='function')], truncation_strategy=TruncationStrategy(type='auto', last_messages=None), usage=None, temperature=1.0, top_p=1.0, tool_resources={})"
      ]
     },
     "execution_count": 7,
     "metadata": {},
     "output_type": "execute_result"
    }
   ],
   "source": [
    "# Submitting functions outputs\n",
    "location_from_input = json.loads(run.required_action.submit_tool_outputs.tool_calls[0].function.arguments)[\"location\"]\n",
    "weather_output = get_current_weather(location_from_input, unit='imperial')\n",
    "\n",
    "run = client.beta.threads.runs.submit_tool_outputs(\n",
    "  thread_id=thread.id,\n",
    "  run_id=run.id,\n",
    "  tool_outputs=[\n",
    "      {\n",
    "        \"tool_call_id\": required_action_id_1,\n",
    "        \"output\": weather_output,\n",
    "      },\n",
    "    ]\n",
    ")\n",
    "run"
   ]
  },
  {
   "cell_type": "code",
   "execution_count": 8,
   "id": "d436d3e8",
   "metadata": {},
   "outputs": [
    {
     "name": "stdout",
     "output_type": "stream",
     "text": [
      "user: What is the weather in Miami?\n",
      "assistant: The current temperature in Miami is 90.37°F.\n"
     ]
    }
   ],
   "source": [
    "# Get and print full list of messages\n",
    "messages = client.beta.threads.messages.list(\n",
    "  thread_id=thread.id\n",
    ")\n",
    "\n",
    "for message in reversed(messages.data):\n",
    "    print(message.role + \": \" + message.content[0].text.value)"
   ]
  },
  {
   "cell_type": "code",
   "execution_count": null,
   "id": "9a0b11f8",
   "metadata": {},
   "outputs": [],
   "source": []
  },
  {
   "cell_type": "code",
   "execution_count": null,
   "id": "ca4362b1",
   "metadata": {},
   "outputs": [],
   "source": []
  }
 ],
 "metadata": {
  "kernelspec": {
   "display_name": "Python 3 (ipykernel)",
   "language": "python",
   "name": "python3"
  },
  "language_info": {
   "codemirror_mode": {
    "name": "ipython",
    "version": 3
   },
   "file_extension": ".py",
   "mimetype": "text/x-python",
   "name": "python",
   "nbconvert_exporter": "python",
   "pygments_lexer": "ipython3",
   "version": "3.12.1"
  }
 },
 "nbformat": 4,
 "nbformat_minor": 5
}
