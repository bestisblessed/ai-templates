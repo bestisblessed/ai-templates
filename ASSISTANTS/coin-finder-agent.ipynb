{
 "cells": [
  {
   "cell_type": "code",
   "execution_count": null,
   "id": "a41f78c2",
   "metadata": {},
   "outputs": [],
   "source": [
    "import os\n",
    "from dotenv import load_dotenv\n",
    "from crewai import Agent, Task, Process, Crew\n",
    "from langchain.agents import Tool"
   ]
  },
  {
   "cell_type": "code",
   "execution_count": null,
   "id": "1b0081d3",
   "metadata": {},
   "outputs": [],
   "source": []
  },
  {
   "cell_type": "code",
   "execution_count": null,
   "id": "1bb7f5dd",
   "metadata": {},
   "outputs": [],
   "source": [
    "class CryptoDataTool:\n",
    "    def fetch_trending(self):\n",
    "        return [\n",
    "            {\"name\": \"Solana\", \"symbol\": \"SOL\", \"price\": \"100\", \"volume_24h\": \"200M\", \"change_24h\": \"5%\"},\n",
    "            {\"name\": \"Cardano\", \"symbol\": \"ADA\", \"price\": \"1.2\", \"volume_24h\": \"100M\", \"change_24h\": \"3%\"}\n",
    "        ]\n",
    "\n",
    "crypto_tool = Tool(\n",
    "    name=\"Crypto Data Fetcher\",\n",
    "    func=CryptoDataTool().fetch_trending,\n",
    "    description=\"Fetches trending cryptocurrency data from online sources\"\n",
    ")\n",
    "\n",
    "crypto_researcher = Agent(\n",
    "    role=\"Crypto Researcher\",\n",
    "    goal=\"Identify and analyze trending cryptocurrencies\",\n",
    "    tools=[crypto_tool],\n",
    "    verbose=True,\n",
    "    backstory=\"An experienced crypto analyst who specializes in spotting market trends early.\"\n",
    ")\n",
    "\n",
    "trending_crypto_task = Task(\n",
    "    description=\"Identify and report on newly trending cryptocurrencies with significant market movements.\",\n",
    "    expected_output=\"A detailed report of trending cryptocurrencies including price changes and market volume.\",\n",
    "    agent=crypto_researcher,\n",
    "    output_file='./crypto_reports/trending_cryptos.txt'\n",
    ")\n",
    "\n",
    "crypto_crew = Crew(\n",
    "    agents=[crypto_researcher],\n",
    "    tasks=[trending_crypto_task],\n",
    "    process=Process.sequential,\n",
    "    verbose=True\n",
    ")\n",
    "\n",
    "result = crypto_crew.kickoff()\n",
    "print(result)\n"
   ]
  },
  {
   "cell_type": "code",
   "execution_count": null,
   "id": "6daa2a49",
   "metadata": {},
   "outputs": [],
   "source": []
  },
  {
   "cell_type": "code",
   "execution_count": null,
   "id": "97aaef1a",
   "metadata": {},
   "outputs": [],
   "source": []
  }
 ],
 "metadata": {
  "kernelspec": {
   "display_name": "Python 3 (ipykernel)",
   "language": "python",
   "name": "python3"
  },
  "language_info": {
   "codemirror_mode": {
    "name": "ipython",
    "version": 3
   },
   "file_extension": ".py",
   "mimetype": "text/x-python",
   "name": "python",
   "nbconvert_exporter": "python",
   "pygments_lexer": "ipython3",
   "version": "3.12.0"
  }
 },
 "nbformat": 4,
 "nbformat_minor": 5
}
